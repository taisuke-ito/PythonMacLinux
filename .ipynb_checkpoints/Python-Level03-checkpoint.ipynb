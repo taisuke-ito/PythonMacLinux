{
 "cells": [
  {
   "cell_type": "markdown",
   "metadata": {},
   "source": [
    "### ■ Pythonの基本プログラミング　レベル３"
   ]
  },
  {
   "cell_type": "markdown",
   "metadata": {},
   "source": [
    "##### ★実行は、セルを選択して、Shiftキーを押しながらEnterキーを押します。\n",
    "##### ★セルの左側にある角かっこ[ ]の中の数字が変わると、実行されたことになります。\n",
    "##### ★実行結果は、すぐ下の欄に表示されます。\n",
    "##### ★同じ結果になるか確認してみてください。\n",
    "##### ★下に問題が並んでいるので、やってみてください。"
   ]
  },
  {
   "cell_type": "code",
   "execution_count": null,
   "metadata": {},
   "outputs": [],
   "source": []
  },
  {
   "cell_type": "markdown",
   "metadata": {},
   "source": [
    "#### 【1】タプルは、リスト、辞書などと同じデータ型の一つです。\n",
    "##### タプルは具体的には (300, 400) です。()で囲まれたデータです。\n",
    "##### 画像などのサイズを、ピクセル数で指定するときなどに使います。\n",
    "##### (300,400)は、縦300ピクセル,横400ピクセルといった具合です。\n",
    "##### 縦、横の順番は、kerasやopencv,pillowなど画像処理ライブラリによって異なるので注意してください。\n",
    "##### ピクセルは、画素ともいわれます。"
   ]
  },
  {
   "cell_type": "code",
   "execution_count": 1,
   "metadata": {},
   "outputs": [
    {
     "name": "stdout",
     "output_type": "stream",
     "text": [
      "(640, 480)\n"
     ]
    }
   ],
   "source": [
    "x = (640,480)\n",
    "print(x)"
   ]
  },
  {
   "cell_type": "code",
   "execution_count": null,
   "metadata": {},
   "outputs": [],
   "source": []
  },
  {
   "cell_type": "markdown",
   "metadata": {},
   "source": [
    "#### 【2】timeライブラリを使って、sleepメソッドで３秒停止してみます。\n",
    "##### timeライブラリを使って、sleepメソッドで３秒停止した後に、次のprint文が実行されます。"
   ]
  },
  {
   "cell_type": "code",
   "execution_count": 2,
   "metadata": {},
   "outputs": [
    {
     "name": "stdout",
     "output_type": "stream",
     "text": [
      "このprint文は3秒後に実行されます\n"
     ]
    }
   ],
   "source": [
    "import time\n",
    "time.sleep(3)\n",
    "print('このprint文は3秒後に実行されます')"
   ]
  },
  {
   "cell_type": "code",
   "execution_count": null,
   "metadata": {},
   "outputs": [],
   "source": []
  },
  {
   "cell_type": "markdown",
   "metadata": {},
   "source": [
    "#### 【3】sysモジュールの機能を使って、Pythonインタプリタ(=python.exe)の場所を探してみます。\n",
    "##### Pythonインタプリタ(=python.exe)の場所は、sysモジュールの中でexecutableという変数に格納されています。\n",
    "##### まずはimport sysで、sysモジュールを読み込みます。sysモジュールを使える状態にします。\n",
    "##### print(sys.executable)で、Pythonインタプリタ(=python.exe)のパスを表示します。\n",
    "##### python.exeのパス＝　'C:\\Users\\〇〇〇〇〇〇\\anaconda3\\python.exe'\n",
    "##### sysモジュールは、「Pythonインタプリタ」に関する処理を、ひとまとめにしたライブラリです。\n",
    "##### Pythonインタプリタpython.exeは、みなさんが書いているプログラムを実行するソフトウェアです。"
   ]
  },
  {
   "cell_type": "code",
   "execution_count": 4,
   "metadata": {},
   "outputs": [
    {
     "name": "stdout",
     "output_type": "stream",
     "text": [
      "/home/taisukeito/anaconda3/envs/kasokankyo1/bin/python\n"
     ]
    }
   ],
   "source": [
    "import sys\n",
    "print(sys.executable)"
   ]
  },
  {
   "cell_type": "markdown",
   "metadata": {},
   "source": [
    "'C:\\\\Users\\\\〇〇〇〇〇〇\\\\anaconda3\\\\envs\\\\tf2keras3D\\\\python.exe'"
   ]
  },
  {
   "cell_type": "code",
   "execution_count": null,
   "metadata": {},
   "outputs": [],
   "source": []
  },
  {
   "cell_type": "markdown",
   "metadata": {},
   "source": [
    "#### 【4】osモジュールやpathlibモジュールを使って、フォルダを作成してみます。\n",
    "##### デスクトップに、新しいフォルダ'testfolder'を作成します。\n",
    "##### pathlibモジュールのhomeメソッドを使って、ホームディレクトリのパス（＝C:/Users/ユーザ名）を取得します。\n",
    "##### from pathlib import Path 最後のPathのpは大文字です。気を付けてください。\n",
    "##### home = str(Path.home())は、変数homeにホームディレクトリのパスの文字列を代入しています。\n",
    "##### カレントディレクトリをデスクトップに移動(chdir=change directory)します。（＝C:/Users/ユーザ名/Desktop）\n",
    "##### makedirsは、make作る、dirs→directories→ディレクトリの複数形、ディレクトリ＝フォルダです。\n",
    "##### デスクトップにフォルダが作成されたか確認してみて下さい。\n",
    "##### os.getcwd()は、get取得する、cwd→current working directoryでカレントディレクトリを意味します。\n",
    "##### exist_ok=Trueは、既にフォルダが作られていてもokということです。"
   ]
  },
  {
   "cell_type": "code",
   "execution_count": 4,
   "metadata": {},
   "outputs": [
    {
     "name": "stdout",
     "output_type": "stream",
     "text": [
      "C:/Users/TaisukeIto/Desktop\n"
     ]
    }
   ],
   "source": [
    "import os\n",
    "from pathlib import Path\n",
    "home = str(Path.home())\n",
    "os.chdir(os.path.join(home,'Desktop'))\n",
    "os.makedirs('testfolder', exist_ok=True)\n",
    "print(os.getcwd().replace('\\\\','/'))"
   ]
  },
  {
   "cell_type": "markdown",
   "metadata": {},
   "source": [
    "C:/Users/〇〇〇〇〇/Desktop"
   ]
  },
  {
   "cell_type": "code",
   "execution_count": null,
   "metadata": {},
   "outputs": [],
   "source": []
  },
  {
   "cell_type": "markdown",
   "metadata": {},
   "source": [
    "#### 【5】 フォルダの中身をリストにして下の欄に出力します。\n",
    "##### os.listdir()は、カレントディレクトリ（自分が今いるフォルダ）にあるファイル名をすべて出力してみます。"
   ]
  },
  {
   "cell_type": "code",
   "execution_count": 5,
   "metadata": {},
   "outputs": [
    {
     "name": "stdout",
     "output_type": "stream",
     "text": [
      "C:\\Users\\TaisukeIto\\Desktop\n"
     ]
    },
    {
     "data": {
      "text/plain": [
       "['computer.lnk',\n",
       " 'desktop.ini',\n",
       " 'tech_起動.lnk',\n",
       " 'testfolder',\n",
       " '起動PythonPrograming.lnk']"
      ]
     },
     "execution_count": 5,
     "metadata": {},
     "output_type": "execute_result"
    }
   ],
   "source": [
    "import os\n",
    "print(os.getcwd())\n",
    "os.listdir()"
   ]
  },
  {
   "cell_type": "code",
   "execution_count": null,
   "metadata": {},
   "outputs": [],
   "source": []
  },
  {
   "cell_type": "markdown",
   "metadata": {},
   "source": [
    "#### 【6】os.path.joinメソッドは、文字列をつなげます。\n",
    "##### 文字列の'c:/users'と’username’をつなげます。\n",
    "##### パスとファイル名の文字列を連結する時などに使います。\n",
    "##### 第一段階では、os.path.joinで文字列'C:/Users'と'UserName'をつなげて、ひとつのパスにします。\n",
    "##### しかし、'C:/Users\\\\\\\\UserName'では、 '\\\\\\\\' と '/' が混在しているので、\n",
    "##### 第二段階で、replaceメソッドを使って、'\\\\\\\\'を'/'に変換します。'C:/Users/UserName'"
   ]
  },
  {
   "cell_type": "code",
   "execution_count": 9,
   "metadata": {},
   "outputs": [
    {
     "data": {
      "text/plain": [
       "'C:/Users\\\\UserName'"
      ]
     },
     "execution_count": 9,
     "metadata": {},
     "output_type": "execute_result"
    }
   ],
   "source": [
    "import os\n",
    "os.path.join('C:/Users','UserName')"
   ]
  },
  {
   "cell_type": "code",
   "execution_count": null,
   "metadata": {},
   "outputs": [],
   "source": []
  },
  {
   "cell_type": "code",
   "execution_count": 10,
   "metadata": {},
   "outputs": [
    {
     "data": {
      "text/plain": [
       "'C:/Users/UserName'"
      ]
     },
     "execution_count": 10,
     "metadata": {},
     "output_type": "execute_result"
    }
   ],
   "source": [
    "import os\n",
    "os.path.join('C:/Users','UserName').replace('\\\\','/')"
   ]
  },
  {
   "cell_type": "code",
   "execution_count": null,
   "metadata": {},
   "outputs": [],
   "source": []
  },
  {
   "cell_type": "markdown",
   "metadata": {},
   "source": [
    "#### 【7】 ランダムな数字を作ってみます。"
   ]
  },
  {
   "cell_type": "markdown",
   "metadata": {},
   "source": [
    "##### randint()は、ランダムな数を生成する関数です。\n",
    "##### randint(1,10)は、1から始めて10で処理を抜ける、ひとつながりの数、つまり、\n",
    "##### 1から9までの数の中でランダムな数を生成します。\n",
    "##### randomライブラリの機能を使って、ランダムな数を生成します。\n",
    "##### そのため、最初にrandomライブラリをインポートしています。"
   ]
  },
  {
   "cell_type": "code",
   "execution_count": 7,
   "metadata": {},
   "outputs": [
    {
     "name": "stdout",
     "output_type": "stream",
     "text": [
      "5\n"
     ]
    }
   ],
   "source": [
    "import random\n",
    "num = random.randint(1,10)\n",
    "print(num)"
   ]
  },
  {
   "cell_type": "code",
   "execution_count": null,
   "metadata": {},
   "outputs": [],
   "source": []
  },
  {
   "cell_type": "markdown",
   "metadata": {},
   "source": [
    "#### 【8】クラスを定義して使ってみます。\n",
    "##### クラスは、プログラム(メソッド)を入れる『袋』のようなものです。\n",
    "##### クラスは、袋でしかないので、実際のプログラム本体はそれぞれメソッドです。(gakushu、asobu、kyuukei)\n",
    "##### クラスは、このように処理が増えたときに、この場合は３つ）\n",
    "##### 関連するメソッドをまとめて整理できる袋のような役割を果たします。\n",
    "##### クラスの中に、gakushu、asobu、kyuukeiという複数の処理を（整理して）まとめています。\n",
    "##### クラスは、いろいろな処理が増えたときのために整理して書いておく仕組みです。\n",
    "##### 処理であるspeakメソッド呼び出すときは、まず「peopleという袋」を指定してあげる必要があります。"
   ]
  },
  {
   "cell_type": "code",
   "execution_count": 21,
   "metadata": {},
   "outputs": [
    {
     "name": "stdout",
     "output_type": "stream",
     "text": [
      "私は勉強中です。\n"
     ]
    }
   ],
   "source": [
    "class people:\n",
    "    def asobu(self):\n",
    "        print('私は遊んでいます。')        \n",
    "    def kyuukei(self):\n",
    "        print('私は休んでいます')\n",
    "    def speak(self):\n",
    "        print('私は勉強中です。')\n",
    "\n",
    "class dog:\n",
    "    def speak(self):\n",
    "        print('ワンワン')\n",
    "        \n",
    "\n",
    "people().speak()       \n",
    "    "
   ]
  },
  {
   "cell_type": "code",
   "execution_count": null,
   "metadata": {},
   "outputs": [],
   "source": []
  },
  {
   "cell_type": "markdown",
   "metadata": {},
   "source": [
    "#### 【9】while文によるループ"
   ]
  },
  {
   "cell_type": "markdown",
   "metadata": {},
   "source": [
    "#### whileの後の条件（counter < 5）が満たされている間、繰り返し処理を行います。（ループ処理）\n",
    "##### まず最初に変数counterに0を代入します。\n",
    "##### コンピュータは、0番から数え始めます。\n",
    "##### counterは1ずつ増やしていき、繰り返しprint文で表示します。"
   ]
  },
  {
   "cell_type": "code",
   "execution_count": 19,
   "metadata": {},
   "outputs": [
    {
     "name": "stdout",
     "output_type": "stream",
     "text": [
      "0\n",
      "1\n",
      "2\n",
      "3\n",
      "4\n"
     ]
    }
   ],
   "source": [
    "counter = 0\n",
    "while counter < 5:\n",
    "    print(counter)\n",
    "    counter+=1"
   ]
  },
  {
   "cell_type": "code",
   "execution_count": null,
   "metadata": {},
   "outputs": [],
   "source": [
    "\n",
    "    "
   ]
  },
  {
   "cell_type": "markdown",
   "metadata": {},
   "source": [
    "#### 【10】無限ループ"
   ]
  },
  {
   "cell_type": "markdown",
   "metadata": {},
   "source": [
    "#### while True: は、Trueの間ずっと繰り返すなので、無限に繰り返すループになります。\n",
    "##### 無限ループは、そのままでは駄目なので、ループを抜ける条件をきちんと書きます。\n",
    "##### if counter>=5:がループを抜ける条件です。\n",
    "##### breakで処理を抜けます。"
   ]
  },
  {
   "cell_type": "code",
   "execution_count": 20,
   "metadata": {},
   "outputs": [
    {
     "name": "stdout",
     "output_type": "stream",
     "text": [
      "0\n",
      "1\n",
      "2\n",
      "3\n",
      "4\n"
     ]
    }
   ],
   "source": [
    "counter=0\n",
    "while True:\n",
    "    print(counter)\n",
    "    counter+=1\n",
    "    if counter>=5:\n",
    "        break\n"
   ]
  },
  {
   "cell_type": "code",
   "execution_count": null,
   "metadata": {},
   "outputs": [],
   "source": []
  },
  {
   "cell_type": "markdown",
   "metadata": {},
   "source": [
    "#### 【11】★★リスト内包表記★★\n",
    "##### これはちょっと難しいです。\n",
    "##### リストの各要素に対して処理を適用し、その結果のリストにします。\n",
    "##### forのところで、[0,1,2,3,4]から要素をひとつづつ取り出して、numには、0 1 2 3 4 と順番に入っていきます。\n",
    "##### それぞれのタイミングで、num*2が、2倍にしています。\n",
    "##### その計算結果をまとめてリストにしています。[0,2,4,6,8]"
   ]
  },
  {
   "cell_type": "code",
   "execution_count": 11,
   "metadata": {},
   "outputs": [
    {
     "name": "stdout",
     "output_type": "stream",
     "text": [
      "[0, 2, 4, 6, 8]\n"
     ]
    }
   ],
   "source": [
    "x = [num*2 for num in [0,1,2,3,4]]\n",
    "print(x)"
   ]
  },
  {
   "cell_type": "code",
   "execution_count": null,
   "metadata": {},
   "outputs": [],
   "source": []
  },
  {
   "cell_type": "code",
   "execution_count": 34,
   "metadata": {},
   "outputs": [
    {
     "name": "stdout",
     "output_type": "stream",
     "text": [
      "[0, 3, 6, 9, 12]\n"
     ]
    }
   ],
   "source": [
    "x=[num*3 for num in [0,1,2,3,4,]]\n",
    "print(x)"
   ]
  },
  {
   "cell_type": "code",
   "execution_count": null,
   "metadata": {},
   "outputs": [],
   "source": []
  },
  {
   "cell_type": "markdown",
   "metadata": {},
   "source": [
    "##### ↓ かけ算をしないと、そのままの数字がでてきます。"
   ]
  },
  {
   "cell_type": "code",
   "execution_count": 23,
   "metadata": {},
   "outputs": [
    {
     "name": "stdout",
     "output_type": "stream",
     "text": [
      "[0, 1, 2, 3, 4]\n"
     ]
    }
   ],
   "source": [
    "x = [num for num in [0,1,2,3,4]]\n",
    "print(x)"
   ]
  },
  {
   "cell_type": "code",
   "execution_count": null,
   "metadata": {},
   "outputs": [],
   "source": []
  },
  {
   "cell_type": "markdown",
   "metadata": {},
   "source": [
    "#### 【12】辞書\n",
    "##### 辞書は、データを格納するデータ形式の一つです。\n",
    "##### 辞書は、波かっこの中に、{キー:値} のように書きます。 \n",
    "##### キーが、'cat'、'dog'、'pig'のようなデータです。\n",
    "##### 値が、0.92、0.35、0.1のようなデータです。\n",
    "##### ディープラーニングでは、「猫である確率は0.92、犬である確率は0.35、豚である確率は0.1」のようなデータの受け渡しに使ったりします。"
   ]
  },
  {
   "cell_type": "code",
   "execution_count": 1,
   "metadata": {},
   "outputs": [
    {
     "data": {
      "text/plain": [
       "0.92"
      ]
     },
     "execution_count": 1,
     "metadata": {},
     "output_type": "execute_result"
    }
   ],
   "source": [
    "x = {'cat':0.92, 'dog':0.35, 'pig':0.1}\n",
    "x['cat']"
   ]
  },
  {
   "cell_type": "code",
   "execution_count": null,
   "metadata": {},
   "outputs": [],
   "source": []
  },
  {
   "cell_type": "markdown",
   "metadata": {},
   "source": [
    "##### 辞書は、キーだけを抜き出したり、値(バリュー)だけを抜き出すことができます。\n",
    "##### "
   ]
  },
  {
   "cell_type": "code",
   "execution_count": 14,
   "metadata": {},
   "outputs": [
    {
     "data": {
      "text/plain": [
       "dict_keys(['cat', 'dog', 'pig'])"
      ]
     },
     "execution_count": 14,
     "metadata": {},
     "output_type": "execute_result"
    }
   ],
   "source": [
    "x.keys()"
   ]
  },
  {
   "cell_type": "code",
   "execution_count": null,
   "metadata": {},
   "outputs": [],
   "source": []
  },
  {
   "cell_type": "code",
   "execution_count": 15,
   "metadata": {},
   "outputs": [
    {
     "data": {
      "text/plain": [
       "dict_values([0.92, 0.35, 0.1])"
      ]
     },
     "execution_count": 15,
     "metadata": {},
     "output_type": "execute_result"
    }
   ],
   "source": [
    "x.values()"
   ]
  },
  {
   "cell_type": "code",
   "execution_count": null,
   "metadata": {},
   "outputs": [],
   "source": []
  },
  {
   "cell_type": "markdown",
   "metadata": {},
   "source": [
    "#### 【13】zip関数で二つのデータをまとめます。\n",
    "##### zip関数は、この例では、picturesのリストとlabelのリストをまとめて、１つのリストにします。\n",
    "##### ディープラーニングでは、画像データの束と、正解データの束をzip関数でひとまとめにする時などに使います。"
   ]
  },
  {
   "cell_type": "code",
   "execution_count": 24,
   "metadata": {},
   "outputs": [
    {
     "data": {
      "text/plain": [
       "[('picture0', 'cat'), ('picture1', 'dog'), ('picture2', 'cat')]"
      ]
     },
     "execution_count": 24,
     "metadata": {},
     "output_type": "execute_result"
    }
   ],
   "source": [
    "pictures = ['picture0','picture1','picture2']\n",
    "label = ['cat','dog','cat']\n",
    "list(zip(pictures, label))"
   ]
  },
  {
   "cell_type": "code",
   "execution_count": null,
   "metadata": {},
   "outputs": [],
   "source": []
  },
  {
   "cell_type": "markdown",
   "metadata": {},
   "source": [
    "#### 【14】【13】のデータを辞書にします。\n",
    "##### zip関数は、この例では、picturesのリストとlabelのリストをまとめて、最後に１つの辞書にします。\n",
    "##### 辞書は、dict関数で作成します。dictは、dictionaryからきています。\n",
    "##### 辞書は、{}で囲まれたデータです。"
   ]
  },
  {
   "cell_type": "code",
   "execution_count": 50,
   "metadata": {},
   "outputs": [
    {
     "name": "stdout",
     "output_type": "stream",
     "text": [
      "{'picture0': 'cat', 'picture1': 'dog', 'picture2': 'cat'}\n"
     ]
    }
   ],
   "source": [
    "pictures = ['picture0','picture1','picture2']\n",
    "label = ['cat','dog','cat']\n",
    "x = dict(zip(pictures, label))\n",
    "print(x)"
   ]
  },
  {
   "cell_type": "code",
   "execution_count": null,
   "metadata": {},
   "outputs": [],
   "source": []
  },
  {
   "cell_type": "markdown",
   "metadata": {},
   "source": [
    "##### ↓ 辞書は、'picture0'を指定すると、そのカテゴリ 'cat'が取得できるという使い方もできます。"
   ]
  },
  {
   "cell_type": "code",
   "execution_count": 54,
   "metadata": {},
   "outputs": [
    {
     "name": "stdout",
     "output_type": "stream",
     "text": [
      "cat\n"
     ]
    }
   ],
   "source": [
    "y = x['picture0']\n",
    "print(y)"
   ]
  },
  {
   "cell_type": "code",
   "execution_count": null,
   "metadata": {},
   "outputs": [],
   "source": []
  },
  {
   "cell_type": "markdown",
   "metadata": {},
   "source": [
    "#### 【15】tkinterモジュールで起動画面を作ります。\n",
    "##### rootは、背景画面です。\n",
    "##### def push():　で処理を作成し、\n",
    "##### ボタンを作成し、Button1\n",
    "##### テキストボックスを作成して TextBox1\n",
    "##### 起動画面を表示します。"
   ]
  },
  {
   "cell_type": "code",
   "execution_count": 56,
   "metadata": {},
   "outputs": [],
   "source": [
    "import tkinter as tk\n",
    "\n",
    "root = tk.Tk()\n",
    "root.geometry('500x400')\n",
    "root.title('Python')\n",
    "\n",
    "def push():\n",
    "    TextBox1.insert(tk.END,\"文字列を挿入します。\")\n",
    "    \n",
    "#ボタン\n",
    "Button1 = tk.Button(master=root, text='実行ボタン', command=push).place(y=150,x=80)\n",
    "\n",
    "#テキストボックス\n",
    "TextBox1 = tk.Entry(master=root, width=50)\n",
    "TextBox1.place(y=100, x=80)\n",
    "\n",
    "root.mainloop()"
   ]
  },
  {
   "cell_type": "code",
   "execution_count": null,
   "metadata": {},
   "outputs": [],
   "source": []
  }
 ],
 "metadata": {
  "kernelspec": {
   "display_name": "Python 3",
   "language": "python",
   "name": "python3"
  },
  "language_info": {
   "codemirror_mode": {
    "name": "ipython",
    "version": 3
   },
   "file_extension": ".py",
   "mimetype": "text/x-python",
   "name": "python",
   "nbconvert_exporter": "python",
   "pygments_lexer": "ipython3",
   "version": "3.8.5"
  }
 },
 "nbformat": 4,
 "nbformat_minor": 4
}
