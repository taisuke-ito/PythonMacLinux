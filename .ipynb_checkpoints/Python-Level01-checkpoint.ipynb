{
 "cells": [
  {
   "cell_type": "markdown",
   "metadata": {},
   "source": [
    "### ■ Pythonの基本プログラミング　レベル１"
   ]
  },
  {
   "cell_type": "markdown",
   "metadata": {},
   "source": [
    "##### ★実行は、セルを選択して、Shiftキーを押しながらEnterキーを押します。\n",
    "##### ★セルの左側にある角かっこ[ ]の中の数字が変わると、実行されたことになります。\n",
    "##### ★実行結果は、すぐ下の欄に表示されます。\n",
    "##### ★同じ結果になるか確認してみてください。\n",
    "##### ★下に問題が並んでいるので、やってみてください。\n",
    "##### ★セルは、このタブの左上の＋のアイコンで追加でき、ハサミのアイコンで削除できます。"
   ]
  },
  {
   "cell_type": "markdown",
   "metadata": {},
   "source": [
    "##### "
   ]
  },
  {
   "cell_type": "markdown",
   "metadata": {},
   "source": [
    "#### 【1】単純な計算 足し算です。\n",
    "##### セルに1+1を入力して、Shiftキーを押しながらEnterキーを押します。\n",
    "##### 1+2の計算結果が下の欄に表示されます。"
   ]
  },
  {
   "cell_type": "code",
   "execution_count": 7,
   "metadata": {},
   "outputs": [
    {
     "data": {
      "text/plain": [
       "3"
      ]
     },
     "execution_count": 7,
     "metadata": {},
     "output_type": "execute_result"
    }
   ],
   "source": [
    "1+2"
   ]
  },
  {
   "cell_type": "markdown",
   "metadata": {},
   "source": [
    "↓下のセルに1+2を入力して、Shiftキーを押しながらEnterキーを押します。上と同じになるか確認してみてください。"
   ]
  },
  {
   "cell_type": "code",
   "execution_count": null,
   "metadata": {},
   "outputs": [],
   "source": []
  },
  {
   "cell_type": "markdown",
   "metadata": {},
   "source": [
    "#### 【2】単純な計算 足し算です。もうひとつやってみましょう。"
   ]
  },
  {
   "cell_type": "code",
   "execution_count": 9,
   "metadata": {},
   "outputs": [
    {
     "data": {
      "text/plain": [
       "5"
      ]
     },
     "execution_count": 9,
     "metadata": {},
     "output_type": "execute_result"
    }
   ],
   "source": [
    "2+3"
   ]
  },
  {
   "cell_type": "markdown",
   "metadata": {},
   "source": [
    "↓下のセルに2+3を入力して、Shiftキーを押しながらEnterキーを押し、計算結果が同じになるか確認してください。"
   ]
  },
  {
   "cell_type": "code",
   "execution_count": null,
   "metadata": {},
   "outputs": [],
   "source": []
  },
  {
   "cell_type": "markdown",
   "metadata": {},
   "source": [
    "#### 【3】引き算です。\n",
    "##### ↓下のセルに5-3を入力して、Shiftキーを押しながらEnterキーを押し、計算結果が同じになるか確認してください。"
   ]
  },
  {
   "cell_type": "code",
   "execution_count": 11,
   "metadata": {},
   "outputs": [
    {
     "data": {
      "text/plain": [
       "2"
      ]
     },
     "execution_count": 11,
     "metadata": {},
     "output_type": "execute_result"
    }
   ],
   "source": [
    "5-3"
   ]
  },
  {
   "cell_type": "code",
   "execution_count": null,
   "metadata": {},
   "outputs": [],
   "source": []
  },
  {
   "cell_type": "markdown",
   "metadata": {},
   "source": [
    "##### ★続けていきましょう。"
   ]
  },
  {
   "cell_type": "markdown",
   "metadata": {},
   "source": [
    "#### 【4】かけ算です。かけ算は * です。アスタリスクです。"
   ]
  },
  {
   "cell_type": "code",
   "execution_count": 13,
   "metadata": {},
   "outputs": [
    {
     "data": {
      "text/plain": [
       "24"
      ]
     },
     "execution_count": 13,
     "metadata": {},
     "output_type": "execute_result"
    }
   ],
   "source": [
    "4*6"
   ]
  },
  {
   "cell_type": "code",
   "execution_count": null,
   "metadata": {},
   "outputs": [],
   "source": []
  },
  {
   "cell_type": "markdown",
   "metadata": {},
   "source": [
    "#### 【5】 割り算、割り算は / です。スラッシュです。"
   ]
  },
  {
   "cell_type": "code",
   "execution_count": 15,
   "metadata": {},
   "outputs": [
    {
     "data": {
      "text/plain": [
       "5.0"
      ]
     },
     "execution_count": 15,
     "metadata": {},
     "output_type": "execute_result"
    }
   ],
   "source": [
    "20/4"
   ]
  },
  {
   "cell_type": "code",
   "execution_count": null,
   "metadata": {},
   "outputs": [],
   "source": []
  },
  {
   "cell_type": "markdown",
   "metadata": {},
   "source": [
    "#### 【6】 Print文\n",
    "##### Print文は、'' ダブルコーテーションで囲まれた文字を、すぐ『下の欄』に表示します。\n",
    "##### 文字列は、' シングルこーテーションで囲みます。\n",
    "##### ( かっこは、Shiftキーを押しながら8を押して入力します。)\n",
    "##### ( 全角入力だとうまく入力できないので、ALTキーを押しながら半角キーを押して半角入力にしてください)\n",
    "##### ' シングルクォーテーションは、Shiftキーを押しながら7を押して入力します。"
   ]
  },
  {
   "cell_type": "code",
   "execution_count": 19,
   "metadata": {},
   "outputs": [
    {
     "name": "stdout",
     "output_type": "stream",
     "text": [
      "hello python\n"
     ]
    }
   ],
   "source": [
    "print('hello python')"
   ]
  },
  {
   "cell_type": "code",
   "execution_count": null,
   "metadata": {},
   "outputs": [],
   "source": []
  },
  {
   "cell_type": "markdown",
   "metadata": {},
   "source": [
    "#### 【7】 値の代入\n",
    "#####     変数xに1を代入します。\n",
    "#####     = は代入です。左のxに右の1を代入します。\n",
    "#####     続けて、変数xの内容をprint文で表示してみます。"
   ]
  },
  {
   "cell_type": "code",
   "execution_count": 38,
   "metadata": {},
   "outputs": [
    {
     "name": "stdout",
     "output_type": "stream",
     "text": [
      "1\n"
     ]
    }
   ],
   "source": [
    "x = 1\n",
    "print(x)"
   ]
  },
  {
   "cell_type": "code",
   "execution_count": null,
   "metadata": {},
   "outputs": [],
   "source": []
  },
  {
   "cell_type": "markdown",
   "metadata": {},
   "source": [
    "#### 【8】 値の代入\n",
    "#####     変数xに、1+2の計算結果を代入します。続けて変数xの内容をprint文で表示してみます。"
   ]
  },
  {
   "cell_type": "code",
   "execution_count": 39,
   "metadata": {},
   "outputs": [
    {
     "name": "stdout",
     "output_type": "stream",
     "text": [
      "3\n"
     ]
    }
   ],
   "source": [
    "x = 1 + 2\n",
    "print(x)"
   ]
  },
  {
   "cell_type": "code",
   "execution_count": null,
   "metadata": {},
   "outputs": [],
   "source": []
  },
  {
   "cell_type": "markdown",
   "metadata": {},
   "source": [
    "#### 【9】 計算"
   ]
  },
  {
   "cell_type": "code",
   "execution_count": 40,
   "metadata": {},
   "outputs": [
    {
     "name": "stdout",
     "output_type": "stream",
     "text": [
      "11000.0\n"
     ]
    }
   ],
   "source": [
    "x = 10000 * 1.1\n",
    "print(x)"
   ]
  },
  {
   "cell_type": "code",
   "execution_count": null,
   "metadata": {},
   "outputs": [],
   "source": []
  },
  {
   "cell_type": "markdown",
   "metadata": {},
   "source": [
    "#### 【10】複数行にわたる計算です。\n",
    "##### xに10000を代入し、x*1.1をyに代入する、のように、複数行にわたっています。"
   ]
  },
  {
   "cell_type": "code",
   "execution_count": 41,
   "metadata": {},
   "outputs": [
    {
     "name": "stdout",
     "output_type": "stream",
     "text": [
      "11000.0\n"
     ]
    }
   ],
   "source": [
    "x = 10000\n",
    "y = x * 1.1\n",
    "print(y)"
   ]
  },
  {
   "cell_type": "code",
   "execution_count": null,
   "metadata": {},
   "outputs": [],
   "source": []
  },
  {
   "cell_type": "markdown",
   "metadata": {},
   "source": [
    "#### 【11】複数行にわたる計算です。\n",
    "##### xに1を代入し、yに2を代入し、zにx+yの結果を代入する、のように文が複数行にわたっています。"
   ]
  },
  {
   "cell_type": "code",
   "execution_count": 42,
   "metadata": {},
   "outputs": [
    {
     "name": "stdout",
     "output_type": "stream",
     "text": [
      "3\n"
     ]
    }
   ],
   "source": [
    "x=1\n",
    "y=2\n",
    "z=x+y\n",
    "print(z)"
   ]
  },
  {
   "cell_type": "code",
   "execution_count": null,
   "metadata": {},
   "outputs": [],
   "source": []
  },
  {
   "cell_type": "markdown",
   "metadata": {},
   "source": [
    "#### 【12】複数行にわたる計算\n",
    "#### 変数kingakuに10000を代入しています。\n",
    "#### kingaku=10000のkingakuは、変数名で自由につけてかまいません。変更することもできます。"
   ]
  },
  {
   "cell_type": "code",
   "execution_count": 43,
   "metadata": {},
   "outputs": [
    {
     "name": "stdout",
     "output_type": "stream",
     "text": [
      "11000.0\n"
     ]
    }
   ],
   "source": [
    "kingaku=10000\n",
    "shouhizei=0.1\n",
    "shiharai = kingaku * (1 + shouhizei)\n",
    "print(shiharai)"
   ]
  },
  {
   "cell_type": "code",
   "execution_count": null,
   "metadata": {},
   "outputs": [],
   "source": []
  },
  {
   "cell_type": "markdown",
   "metadata": {},
   "source": [
    "#### 【14】小数点以下を切り捨ててみます。int関数です。\n",
    "##### integerが整数であることに由来した関数名です。"
   ]
  },
  {
   "cell_type": "code",
   "execution_count": 44,
   "metadata": {},
   "outputs": [
    {
     "name": "stdout",
     "output_type": "stream",
     "text": [
      "11000\n"
     ]
    }
   ],
   "source": [
    "en = int(shiharai)\n",
    "print(en)"
   ]
  },
  {
   "cell_type": "code",
   "execution_count": null,
   "metadata": {},
   "outputs": [],
   "source": []
  },
  {
   "cell_type": "markdown",
   "metadata": {},
   "source": [
    "#### 【15】 if文です。条件文と呼ばれるものです。\n",
    "##### xに1を代入します。=が1つだけだと代入です。\n",
    "##### xが1に一致する時に、'xは1です'という文字列を表示します。\n",
    "##### == と2つある方がイコールの意味になります。xが1に一致する時に・・・ということです。\n",
    "##### :コロンは、if文の最後につける決まりです。\n",
    "##### print文の前には、空白4文字が入っています。インデントと呼ばれるものです。\n",
    "##### インデントがあることで、コンピュータは、if文の中の処理なんだなとわかるわけです。\n",
    "##### インデント(空白4文字)がないと、print文は、if文と無関係とみなされてしまいます。"
   ]
  },
  {
   "cell_type": "code",
   "execution_count": 7,
   "metadata": {},
   "outputs": [
    {
     "name": "stdout",
     "output_type": "stream",
     "text": [
      "xは1です\n"
     ]
    }
   ],
   "source": [
    "x=1\n",
    "if x == 1:\n",
    "    print('xは1です')"
   ]
  },
  {
   "cell_type": "code",
   "execution_count": null,
   "metadata": {},
   "outputs": [],
   "source": []
  },
  {
   "cell_type": "markdown",
   "metadata": {},
   "source": [
    "#### 【16】 if文\n",
    "##### x=2で、xに2を代入します。\n",
    "##### =イコールは代入です。xに2を代入します。\n",
    "##### !=は否定で、「ではない時に」となります。「xが1に一致しないときに」"
   ]
  },
  {
   "cell_type": "code",
   "execution_count": 46,
   "metadata": {},
   "outputs": [
    {
     "name": "stdout",
     "output_type": "stream",
     "text": [
      "xは1ではありません\n"
     ]
    }
   ],
   "source": [
    "x=2\n",
    "if x != 1:\n",
    "    print('xは1ではありません')"
   ]
  },
  {
   "cell_type": "code",
   "execution_count": null,
   "metadata": {},
   "outputs": [],
   "source": []
  },
  {
   "cell_type": "markdown",
   "metadata": {},
   "source": [
    "#### 【17】 if文で、条件が２つ以上ある場合は、elifを使います、\n",
    "##### 最初にxに2を代入しています。\n",
    "##### x==1の時は、文字列'xは1です'を表示し、\n",
    "##### x==2の時は、文字列'xは2です'を表示します。\n",
    "##### elifは、else ifの略から来ていてelseは「その他の」という意味です。\n",
    "##### x==1の時は、'xは1です'と表示し、x==2の時は、'xは2です'と表示します。\n",
    "##### 最初にx==2を代入しているので、print文は、'xは2です' が選択されます。"
   ]
  },
  {
   "cell_type": "code",
   "execution_count": 47,
   "metadata": {},
   "outputs": [
    {
     "name": "stdout",
     "output_type": "stream",
     "text": [
      "xは2です\n"
     ]
    }
   ],
   "source": [
    "x = 2\n",
    "if x == 1:\n",
    "    print('xは1です')\n",
    "elif x==2:\n",
    "    print('xは2です')"
   ]
  },
  {
   "cell_type": "code",
   "execution_count": null,
   "metadata": {},
   "outputs": [],
   "source": []
  },
  {
   "cell_type": "markdown",
   "metadata": {},
   "source": [
    "#### 【18】 if文で文字列を処理してみます。\n",
    "##### プログラムの中で文字列を扱います。①プログラムのコード（xやifなどの文字列）と②普通の文字列(helloなど)を区別するために、②の文字列は ' シングルクォーテーションで囲みます。　'hello'\n",
    "##### プログラムで使う単語(予約語といいます)や記号 : コロンなどは、【半角入力】が必要です。\n",
    "##### 全角と半角の切り替えは、キーボードの【半角/全角】キーを押してください。"
   ]
  },
  {
   "cell_type": "code",
   "execution_count": 1,
   "metadata": {},
   "outputs": [
    {
     "name": "stdout",
     "output_type": "stream",
     "text": [
      "xはhelloです\n"
     ]
    }
   ],
   "source": [
    "x = 'hello'\n",
    "if x == 'hello':\n",
    "    print('xはhelloです')"
   ]
  },
  {
   "cell_type": "code",
   "execution_count": null,
   "metadata": {},
   "outputs": [],
   "source": []
  },
  {
   "cell_type": "markdown",
   "metadata": {},
   "source": [
    "#### 【19】配列の代入　[]はリスト（配列）です。\n",
    "##### 変数xには、数字1つだけでなく、いくつかの数字をまとめて格納できます。配列[]の中に入れて書きます。\n",
    "##### ,カンマで区切って入力します。[]はブラケット演算子といいます。\n",
    "##### また、コンピュータは、数字を0から数えます。0から数え始める点は気をつけてください。"
   ]
  },
  {
   "cell_type": "code",
   "execution_count": 3,
   "metadata": {},
   "outputs": [
    {
     "name": "stdout",
     "output_type": "stream",
     "text": [
      "[0, 1, 2, 3, 4]\n"
     ]
    }
   ],
   "source": [
    "x=[0,1,2,3,4]\n",
    "print(x)"
   ]
  },
  {
   "cell_type": "code",
   "execution_count": null,
   "metadata": {},
   "outputs": [],
   "source": []
  },
  {
   "cell_type": "markdown",
   "metadata": {},
   "source": [
    "#### 【20】for文です。for文は、繰り返しの処理を書く時に使います。\n",
    "##### この例では、for文は、print文を繰り返し実行しています。\n",
    "##### 変数 i に0を代入して、print文を実行\n",
    "##### 変数 i に1を代入して、print文を実行\n",
    "##### 変数 i に2を代入して、print文を実行\n",
    "##### 変数 i に3を代入して、print文を実行\n",
    "##### 変数 i に4を代入して、print文を実行\n",
    "##### のように、print文を繰り返し実行しています。\n",
    "##### 配列[0,1,2,3,4]の中身を順番にprint文で下の欄に出力してみましょう。\n",
    "##### ひとつひとつ順番に出力されるので、縦に出力されます。\n"
   ]
  },
  {
   "cell_type": "code",
   "execution_count": 50,
   "metadata": {},
   "outputs": [
    {
     "name": "stdout",
     "output_type": "stream",
     "text": [
      "0\n",
      "1\n",
      "2\n",
      "3\n",
      "4\n"
     ]
    }
   ],
   "source": [
    "for i in [0,1,2,3,4]:\n",
    "    print(i)"
   ]
  },
  {
   "cell_type": "code",
   "execution_count": null,
   "metadata": {},
   "outputs": [],
   "source": []
  },
  {
   "cell_type": "markdown",
   "metadata": {},
   "source": [
    "#### 【21】リスト（配列）の代入\n",
    "##### 変数xに、文字のリスト（配列）を代入してみます。"
   ]
  },
  {
   "cell_type": "code",
   "execution_count": 52,
   "metadata": {},
   "outputs": [
    {
     "name": "stdout",
     "output_type": "stream",
     "text": [
      "['red', 'green', 'blue']\n"
     ]
    }
   ],
   "source": [
    "x = ['red','green','blue']\n",
    "print(x)"
   ]
  },
  {
   "cell_type": "code",
   "execution_count": null,
   "metadata": {},
   "outputs": [],
   "source": []
  },
  {
   "cell_type": "markdown",
   "metadata": {},
   "source": [
    "#### 【22】スライスは、配列から中身(要素という)を取り出す処理です。\n",
    "##### スライスは、配列で順番を表す番号(インデックス)を指定します。\n",
    "##### コンピュータは、0番目から数え始めます。この点は、注意しましょう。\n",
    "##### 'red'は、0番目\n",
    "##### 'green'は、1番目\n",
    "##### 'blue'は、2番目\n",
    "##### です。"
   ]
  },
  {
   "cell_type": "code",
   "execution_count": 12,
   "metadata": {},
   "outputs": [
    {
     "data": {
      "text/plain": [
       "'red'"
      ]
     },
     "execution_count": 12,
     "metadata": {},
     "output_type": "execute_result"
    }
   ],
   "source": [
    "x[0]"
   ]
  },
  {
   "cell_type": "code",
   "execution_count": null,
   "metadata": {},
   "outputs": [],
   "source": []
  },
  {
   "cell_type": "code",
   "execution_count": 55,
   "metadata": {},
   "outputs": [
    {
     "data": {
      "text/plain": [
       "'green'"
      ]
     },
     "execution_count": 55,
     "metadata": {},
     "output_type": "execute_result"
    }
   ],
   "source": [
    "x[1]"
   ]
  },
  {
   "cell_type": "code",
   "execution_count": null,
   "metadata": {},
   "outputs": [],
   "source": []
  },
  {
   "cell_type": "code",
   "execution_count": 56,
   "metadata": {},
   "outputs": [
    {
     "data": {
      "text/plain": [
       "'blue'"
      ]
     },
     "execution_count": 56,
     "metadata": {},
     "output_type": "execute_result"
    }
   ],
   "source": [
    "x[2]"
   ]
  },
  {
   "cell_type": "code",
   "execution_count": null,
   "metadata": {},
   "outputs": [],
   "source": []
  },
  {
   "cell_type": "markdown",
   "metadata": {},
   "source": [
    "#### 【23】スライス\n",
    "##### ★★★スライスは本当にややこしいので気を付けてください★★★\n",
    "##### 'a'は0番、'b'は1番、'c'は2番、'd'は3番、'e'は4番\n",
    "##### コンピュータは0番から数え始めます。\n",
    "##### x[1:3]は、1番目の'b'と、2番目の'c'だけを抽出します。\n",
    "##### x[1:3]は、0番目の'a'は飛ばし、1番目の'b'と、2番目の'c'を抽出しますが、3番目の’d’では抽出処理を抜けるので抽出されません。\n",
    "##### x[1:3]は、「1番から始まり3番で抽出処理を抜ける」と覚えます。\n",
    "##### ややこしいですが、こうなってしまっているので仕方がありません。そしてよく使います。\n",
    "##### x[1:3]は、1番と2番である'b''c'です。"
   ]
  },
  {
   "cell_type": "code",
   "execution_count": 19,
   "metadata": {},
   "outputs": [
    {
     "data": {
      "text/plain": [
       "['b', 'c']"
      ]
     },
     "execution_count": 19,
     "metadata": {},
     "output_type": "execute_result"
    }
   ],
   "source": [
    "x = ['a','b','c','d','e']\n",
    "x[1:3]"
   ]
  },
  {
   "cell_type": "code",
   "execution_count": null,
   "metadata": {},
   "outputs": [],
   "source": []
  },
  {
   "cell_type": "markdown",
   "metadata": {},
   "source": [
    "#### 【24】アンパック\n",
    "##### 2つ以上の変数に、いっぺんに数字を代入します。\n",
    "##### x = 1   xに1を代入する\n",
    "##### y = 2   yに2を代入する\n",
    "##### という内容をいっぺんに行います。"
   ]
  },
  {
   "cell_type": "code",
   "execution_count": 31,
   "metadata": {},
   "outputs": [
    {
     "name": "stdout",
     "output_type": "stream",
     "text": [
      "1\n",
      "2\n"
     ]
    }
   ],
   "source": [
    "x, y = 1, 2\n",
    "print(x)\n",
    "print(y)\n"
   ]
  },
  {
   "cell_type": "code",
   "execution_count": null,
   "metadata": {},
   "outputs": [],
   "source": []
  },
  {
   "cell_type": "markdown",
   "metadata": {},
   "source": [
    "#### 【26】print文\n",
    "##### , カンマでつなげて、２つ以上の内容を表示してみます。"
   ]
  },
  {
   "cell_type": "code",
   "execution_count": 33,
   "metadata": {},
   "outputs": [
    {
     "name": "stdout",
     "output_type": "stream",
     "text": [
      "hello Python \n"
     ]
    }
   ],
   "source": [
    "print('hello', 'Python ')"
   ]
  },
  {
   "cell_type": "code",
   "execution_count": null,
   "metadata": {},
   "outputs": [],
   "source": []
  }
 ],
 "metadata": {
  "kernelspec": {
   "display_name": "Python 3",
   "language": "python",
   "name": "python3"
  },
  "language_info": {
   "codemirror_mode": {
    "name": "ipython",
    "version": 3
   },
   "file_extension": ".py",
   "mimetype": "text/x-python",
   "name": "python",
   "nbconvert_exporter": "python",
   "pygments_lexer": "ipython3",
   "version": "3.7.6"
  }
 },
 "nbformat": 4,
 "nbformat_minor": 4
}
