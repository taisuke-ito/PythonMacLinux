{
 "cells": [
  {
   "cell_type": "markdown",
   "metadata": {},
   "source": [
    "### ■ Pythonの基本プログラミング　レベル２"
   ]
  },
  {
   "cell_type": "markdown",
   "metadata": {},
   "source": [
    "##### ★実行は、セルを選択して、Shiftキーを押しながらEnterキーを押します。\n",
    "##### ★セルの左側にある角かっこ[ ]の中の数字が変わると、実行されたことになります。\n",
    "##### ★実行結果は、すぐ下の欄に表示されます。\n",
    "##### ★同じ結果になるか確認してみてください。\n",
    "##### ★下に問題が並んでいるので、やってみてください。"
   ]
  },
  {
   "cell_type": "markdown",
   "metadata": {},
   "source": [
    "##### "
   ]
  },
  {
   "cell_type": "markdown",
   "metadata": {},
   "source": [
    "#### 【1】len関数で、リストの中の数(要素数)を数えます。\n",
    "##### リストは、[]で表されるデータ型です。\n",
    "##### リストの要素数は、len関数でも数えられます。\n",
    "##### リストに格納した画像データの枚数を数えるときに使ったりします。\n",
    "##### 画像データのパスのリストをリストに格納し、画像データの数を数えるといった使い方をします。\n",
    "##### imageA B C Dの4枚です。imageは画像のことです。\n",
    "##### Aのように大文字は、Shiftキーを押しながらaを押します。"
   ]
  },
  {
   "cell_type": "code",
   "execution_count": 1,
   "metadata": {},
   "outputs": [
    {
     "data": {
      "text/plain": [
       "4"
      ]
     },
     "execution_count": 1,
     "metadata": {},
     "output_type": "execute_result"
    }
   ],
   "source": [
    "x = ['imageA', 'imageB', 'imageC', 'imageD']\n",
    "len(x)"
   ]
  },
  {
   "cell_type": "code",
   "execution_count": null,
   "metadata": {},
   "outputs": [],
   "source": []
  },
  {
   "cell_type": "markdown",
   "metadata": {},
   "source": [
    "##### 復習です。スライスで0番目のデータを抽出してみます。"
   ]
  },
  {
   "cell_type": "code",
   "execution_count": 2,
   "metadata": {},
   "outputs": [
    {
     "data": {
      "text/plain": [
       "'imageA'"
      ]
     },
     "execution_count": 2,
     "metadata": {},
     "output_type": "execute_result"
    }
   ],
   "source": [
    "x[0]"
   ]
  },
  {
   "cell_type": "code",
   "execution_count": null,
   "metadata": {},
   "outputs": [],
   "source": []
  },
  {
   "cell_type": "markdown",
   "metadata": {},
   "source": [
    "#### 【2】len関数でリストの要素数を調べる"
   ]
  },
  {
   "cell_type": "markdown",
   "metadata": {},
   "source": [
    "##### lenは、length長さという意味で、文字列の長さから転じて、文字などの個数を数えます。\n",
    "##### xにリスト['a','b','c','d','e']を代入しています。\n",
    "##### リストの要素数は、'a','b','c','d','e'の５つなので、\n",
    "##### len(x)で5と返ってきます。"
   ]
  },
  {
   "cell_type": "code",
   "execution_count": 3,
   "metadata": {},
   "outputs": [
    {
     "data": {
      "text/plain": [
       "5"
      ]
     },
     "execution_count": 3,
     "metadata": {},
     "output_type": "execute_result"
    }
   ],
   "source": [
    "x = ['a','b','c','d','e']\n",
    "len(x)"
   ]
  },
  {
   "cell_type": "code",
   "execution_count": null,
   "metadata": {},
   "outputs": [],
   "source": []
  },
  {
   "cell_type": "markdown",
   "metadata": {},
   "source": [
    "#### 【3】 文字列を切りだす"
   ]
  },
  {
   "cell_type": "markdown",
   "metadata": {},
   "source": [
    "##### コンピューターは0番から数え始めます。\n",
    "##### 文字列の文字も0番から数え始めます。\n",
    "##### a→0、b→1、c→2、d→3、e→4、f→5、g→6\n",
    "##### x[0:3]は、0番目からはじめて3番目で抽出処理を抜けるので、0番目～2番目の文字です"
   ]
  },
  {
   "cell_type": "code",
   "execution_count": 4,
   "metadata": {},
   "outputs": [
    {
     "name": "stdout",
     "output_type": "stream",
     "text": [
      "abc\n",
      "bc\n",
      "cd\n"
     ]
    }
   ],
   "source": [
    "x='abcdefg'\n",
    "print(x[0:3])\n",
    "print(x[1:3])\n",
    "print(x[2:4])"
   ]
  },
  {
   "cell_type": "code",
   "execution_count": null,
   "metadata": {},
   "outputs": [],
   "source": []
  },
  {
   "cell_type": "markdown",
   "metadata": {},
   "source": [
    "#### 【4】要素の番号に-1を指定したときは、「最後の」という意味になります。"
   ]
  },
  {
   "cell_type": "code",
   "execution_count": 5,
   "metadata": {},
   "outputs": [
    {
     "name": "stdout",
     "output_type": "stream",
     "text": [
      "g\n"
     ]
    }
   ],
   "source": [
    "x='abcdefg'\n",
    "print(x[-1])"
   ]
  },
  {
   "cell_type": "code",
   "execution_count": null,
   "metadata": {},
   "outputs": [],
   "source": []
  },
  {
   "cell_type": "markdown",
   "metadata": {},
   "source": [
    "##### -1は、最後から1文字目です。'abcdefg'の場合はgです。\n",
    "##### -2は、最後から2文字目です。'abcdefg'の場合はfです。"
   ]
  },
  {
   "cell_type": "code",
   "execution_count": 6,
   "metadata": {},
   "outputs": [
    {
     "name": "stdout",
     "output_type": "stream",
     "text": [
      "f\n"
     ]
    }
   ],
   "source": [
    "print(x[-2])"
   ]
  },
  {
   "cell_type": "code",
   "execution_count": null,
   "metadata": {},
   "outputs": [],
   "source": []
  },
  {
   "cell_type": "markdown",
   "metadata": {},
   "source": [
    "#### 【5】print文とstr関数(ストラ関数)\n",
    "##### まず変数weightに数字の85を代入しています。\n",
    "##### 変数weightの中身は数字なので、そのままでは文字列の 'kgです' とつなげることができません。\n",
    "##### print(85+'kgです')はエラーになってしまいます。\n",
    "##### str関数で、数字の85を、文字列の ’85’ にすることで、print文で合わせて表示できます。\n",
    "##### ディープラーニングの学習状況を画面に表示するときなどに、計算結果の数値とコメントをつなげて画面に出力します。"
   ]
  },
  {
   "cell_type": "code",
   "execution_count": 7,
   "metadata": {},
   "outputs": [
    {
     "name": "stdout",
     "output_type": "stream",
     "text": [
      "85kgです\n"
     ]
    }
   ],
   "source": [
    "weight=85\n",
    "print(str(weight)+'kgです')"
   ]
  },
  {
   "cell_type": "code",
   "execution_count": null,
   "metadata": {},
   "outputs": [],
   "source": []
  },
  {
   "cell_type": "markdown",
   "metadata": {},
   "source": [
    "#### 【6】変数とデータ型\n",
    "##### pythonは、変数xに値を代入すると、その値によって自動的にデータ型を判断します。\n",
    "##### データが2や3なら整数型(int型)、5.3や4.25なら浮動小数点型(float型)、文字なら文字型(str型)です。\n",
    "##### データ型は、そのメモリ内で、どれだけの容量を使うかにつながるため、メモリが容量が小さく高価だった時代には、特に重要な問題でした。今は、以前よりは問題とはならないものの、それでも、高速で大規模なデータを扱う場合には、どのデータ型を使うかが議論の対象になります。"
   ]
  },
  {
   "cell_type": "code",
   "execution_count": 8,
   "metadata": {},
   "outputs": [
    {
     "data": {
      "text/plain": [
       "int"
      ]
     },
     "execution_count": 8,
     "metadata": {},
     "output_type": "execute_result"
    }
   ],
   "source": [
    "x=10\n",
    "type(x)"
   ]
  },
  {
   "cell_type": "code",
   "execution_count": null,
   "metadata": {},
   "outputs": [],
   "source": []
  },
  {
   "cell_type": "code",
   "execution_count": 9,
   "metadata": {},
   "outputs": [
    {
     "data": {
      "text/plain": [
       "float"
      ]
     },
     "execution_count": 9,
     "metadata": {},
     "output_type": "execute_result"
    }
   ],
   "source": [
    "x=1.12\n",
    "type(x)"
   ]
  },
  {
   "cell_type": "code",
   "execution_count": null,
   "metadata": {},
   "outputs": [],
   "source": []
  },
  {
   "cell_type": "code",
   "execution_count": 10,
   "metadata": {},
   "outputs": [
    {
     "data": {
      "text/plain": [
       "str"
      ]
     },
     "execution_count": 10,
     "metadata": {},
     "output_type": "execute_result"
    }
   ],
   "source": [
    "x='abcde'\n",
    "type(x)"
   ]
  },
  {
   "cell_type": "code",
   "execution_count": null,
   "metadata": {},
   "outputs": [],
   "source": []
  },
  {
   "cell_type": "markdown",
   "metadata": {},
   "source": [
    "##### 文字はstr型です。strは、stringに由来します。\n",
    "##### stringは糸や「ひも」、数珠繋ぎを表す言葉で文字が、ひものようにつながったもの、\n",
    "##### という意味から、文字列を格納するデータ型の意味で使われます。"
   ]
  },
  {
   "cell_type": "code",
   "execution_count": 11,
   "metadata": {},
   "outputs": [
    {
     "data": {
      "text/plain": [
       "str"
      ]
     },
     "execution_count": 11,
     "metadata": {},
     "output_type": "execute_result"
    }
   ],
   "source": [
    "x='hello'\n",
    "type(x)"
   ]
  },
  {
   "cell_type": "code",
   "execution_count": null,
   "metadata": {},
   "outputs": [],
   "source": []
  },
  {
   "cell_type": "markdown",
   "metadata": {},
   "source": [
    "#### 【7】 formatメソッドは、{}の中に変数xの値を代入します。\n",
    "##### formatメソッドは、文字列　'正解率は、{}です'  の{}の中に0.95を代入しています。\n",
    "##### ディープラーニングで、学習の状況を表示する時に、誤差関数の値や、正解率のデータを画面に表示するのに使います。\n",
    "##### まずxに0.95という数値を代入します。\n",
    "##### 文字列'正解率は、{}です' の{}の中に、変数xの値(0.95)を代入しています。"
   ]
  },
  {
   "cell_type": "code",
   "execution_count": 12,
   "metadata": {},
   "outputs": [
    {
     "data": {
      "text/plain": [
       "'正解率は、0.95です'"
      ]
     },
     "execution_count": 12,
     "metadata": {},
     "output_type": "execute_result"
    }
   ],
   "source": [
    "x=0.95\n",
    "'正解率は、{}です'.format(x)"
   ]
  },
  {
   "cell_type": "code",
   "execution_count": null,
   "metadata": {},
   "outputs": [],
   "source": []
  },
  {
   "cell_type": "markdown",
   "metadata": {},
   "source": [
    "#### 【8】複合代入演算子\n",
    "##### x=x+3のような内容(xにx+3の計算結果を代入する)を、短縮してx+=3とできます。\n",
    "##### まずxに10を代入し、xに3を足します。\n",
    "##### 複合代入演算子とは、+=のように、複数の演算子の+と=をつなげたもののことです。"
   ]
  },
  {
   "cell_type": "code",
   "execution_count": 13,
   "metadata": {},
   "outputs": [
    {
     "name": "stdout",
     "output_type": "stream",
     "text": [
      "13\n"
     ]
    }
   ],
   "source": [
    "x=10\n",
    "x=x+3\n",
    "print(x)"
   ]
  },
  {
   "cell_type": "code",
   "execution_count": null,
   "metadata": {},
   "outputs": [],
   "source": []
  },
  {
   "cell_type": "markdown",
   "metadata": {},
   "source": [
    "##### ↓　+= が複合代入演算子です。"
   ]
  },
  {
   "cell_type": "code",
   "execution_count": 14,
   "metadata": {},
   "outputs": [
    {
     "name": "stdout",
     "output_type": "stream",
     "text": [
      "13\n"
     ]
    }
   ],
   "source": [
    "x=10\n",
    "x+=3\n",
    "print(x)"
   ]
  },
  {
   "cell_type": "code",
   "execution_count": null,
   "metadata": {},
   "outputs": [],
   "source": []
  },
  {
   "cell_type": "markdown",
   "metadata": {},
   "source": [
    "#### 【9】文字列をつなげます。"
   ]
  },
  {
   "cell_type": "code",
   "execution_count": 15,
   "metadata": {},
   "outputs": [
    {
     "name": "stdout",
     "output_type": "stream",
     "text": [
      "hello python\n"
     ]
    }
   ],
   "source": [
    "x='hello' + ' ' +  'python'\n",
    "print(x)"
   ]
  },
  {
   "cell_type": "code",
   "execution_count": null,
   "metadata": {},
   "outputs": [],
   "source": []
  },
  {
   "cell_type": "markdown",
   "metadata": {},
   "source": [
    "#### 【10】数字を文字に変換します。\n",
    "##### 計算結果は、数字なので、そのままでは文字列として表示できません。"
   ]
  },
  {
   "cell_type": "code",
   "execution_count": 16,
   "metadata": {},
   "outputs": [
    {
     "name": "stdout",
     "output_type": "stream",
     "text": [
      "11000です\n"
     ]
    }
   ],
   "source": [
    "x = 10000\n",
    "y = x * 1.1\n",
    "z=int(y)\n",
    "print(str(z)+ 'です')"
   ]
  },
  {
   "cell_type": "code",
   "execution_count": null,
   "metadata": {},
   "outputs": [],
   "source": []
  },
  {
   "cell_type": "markdown",
   "metadata": {},
   "source": [
    "#### 【11】スライスで、指定した文字列を取り出してみます。\n",
    "##### スライスは、xが文字列'abcde'全体としたときに、'abc'のように、一部を抜き出すことです。\n",
    "##### スライスは、リスト内で、x[0:3]のようにインデックス番号を指定します。\n",
    "##### スライスは、リストxで番号を指定することです。"
   ]
  },
  {
   "cell_type": "code",
   "execution_count": 17,
   "metadata": {},
   "outputs": [
    {
     "data": {
      "text/plain": [
       "'abc'"
      ]
     },
     "execution_count": 17,
     "metadata": {},
     "output_type": "execute_result"
    }
   ],
   "source": [
    "x='abcde'\n",
    "x[0:3]"
   ]
  },
  {
   "cell_type": "code",
   "execution_count": null,
   "metadata": {},
   "outputs": [],
   "source": []
  },
  {
   "cell_type": "code",
   "execution_count": 18,
   "metadata": {},
   "outputs": [
    {
     "data": {
      "text/plain": [
       "'bc'"
      ]
     },
     "execution_count": 18,
     "metadata": {},
     "output_type": "execute_result"
    }
   ],
   "source": [
    "x='abcde'\n",
    "x[1:3]"
   ]
  },
  {
   "cell_type": "code",
   "execution_count": null,
   "metadata": {},
   "outputs": [],
   "source": []
  },
  {
   "cell_type": "markdown",
   "metadata": {},
   "source": [
    "#### 【12】format関数で、計算結果などを、文字列の中に埋め込んで表示します。"
   ]
  },
  {
   "cell_type": "code",
   "execution_count": 19,
   "metadata": {},
   "outputs": [
    {
     "name": "stdout",
     "output_type": "stream",
     "text": [
      "計算結果は11000です\n"
     ]
    }
   ],
   "source": [
    "x = int(10000*1.1)\n",
    "print('計算結果は{}です'.format(x))"
   ]
  },
  {
   "cell_type": "code",
   "execution_count": null,
   "metadata": {},
   "outputs": [],
   "source": []
  },
  {
   "cell_type": "markdown",
   "metadata": {},
   "source": [
    "#### 【13】リストに要素を追加していきます。\n",
    "##### xに空(から)のリストを代入します。\n",
    "##### appendで、順番に追加していきます。appendは、追加するという意味です。\n",
    "##### 最後に変数xを代入してみます。"
   ]
  },
  {
   "cell_type": "code",
   "execution_count": 20,
   "metadata": {},
   "outputs": [
    {
     "name": "stdout",
     "output_type": "stream",
     "text": [
      "['a', 'b', 'c']\n"
     ]
    }
   ],
   "source": [
    "x=[]\n",
    "x.append('a')\n",
    "x.append('b')\n",
    "x.append('c')\n",
    "print(x)"
   ]
  },
  {
   "cell_type": "code",
   "execution_count": null,
   "metadata": {},
   "outputs": [],
   "source": []
  },
  {
   "cell_type": "markdown",
   "metadata": {},
   "source": [
    "##### 復習で、スライスで'c'を出力してみます。'a'が0番、'b'が1番、'c'が2番なので、2番を指定します。"
   ]
  },
  {
   "cell_type": "code",
   "execution_count": 21,
   "metadata": {},
   "outputs": [
    {
     "data": {
      "text/plain": [
       "'c'"
      ]
     },
     "execution_count": 21,
     "metadata": {},
     "output_type": "execute_result"
    }
   ],
   "source": [
    "x[2]"
   ]
  },
  {
   "cell_type": "code",
   "execution_count": null,
   "metadata": {},
   "outputs": [],
   "source": []
  },
  {
   "cell_type": "markdown",
   "metadata": {},
   "source": [
    "#### 【14】len関数で、文字の数を数えてみます。\n",
    "##### lenは、lengthに由来し、文字列の長さ＝文字数を数えます。"
   ]
  },
  {
   "cell_type": "code",
   "execution_count": 22,
   "metadata": {},
   "outputs": [
    {
     "data": {
      "text/plain": [
       "5"
      ]
     },
     "execution_count": 22,
     "metadata": {},
     "output_type": "execute_result"
    }
   ],
   "source": [
    "x='abcde'\n",
    "len(x)"
   ]
  },
  {
   "cell_type": "code",
   "execution_count": null,
   "metadata": {},
   "outputs": [],
   "source": []
  },
  {
   "cell_type": "markdown",
   "metadata": {},
   "source": [
    "#### 【15】replaceは、文字列の置き換えです。\n",
    "##### replaceメソッドで、文字列の'\\\\\\\\'を'/'にを置き換えます。\n",
    "##### 'C:\\\\\\\\Users\\\\\\\\aaa\\\\\\\\bbb'を\n",
    "##### 'C:/Users/aaa/bbb'に変えます。\n",
    "##### WindosやLinuxでパスの区切り記号が違うので、それを変換するときなどに使います。\n",
    "##### .replaceメソッドは、その前にある文字列に対して実行する、と読みます。"
   ]
  },
  {
   "cell_type": "code",
   "execution_count": 24,
   "metadata": {},
   "outputs": [
    {
     "data": {
      "text/plain": [
       "'home/Users/aaa/bbb'"
      ]
     },
     "execution_count": 24,
     "metadata": {},
     "output_type": "execute_result"
    }
   ],
   "source": [
    "'home\\\\Users\\\\aaa\\\\bbb'.replace('\\\\','/')"
   ]
  },
  {
   "cell_type": "code",
   "execution_count": 25,
   "metadata": {},
   "outputs": [
    {
     "name": "stdout",
     "output_type": "stream",
     "text": [
      "/home/taisukeito/PythonMacLinux\n"
     ]
    }
   ],
   "source": [
    "!pwd"
   ]
  },
  {
   "cell_type": "markdown",
   "metadata": {},
   "source": [
    "##### "
   ]
  },
  {
   "cell_type": "markdown",
   "metadata": {},
   "source": [
    "#### 【16】type関数でタプルのデータ型を確認してみます。\n",
    "##### type(x)で、変数xのデータ型を確認してみると、tupleタプルと表示されるので、タプルであることが確認できます。\n",
    "##### タプルは、データ型のひとつです。\n",
    "##### タプルは、画像データのピクセル数を指定する時に使ったりします。\n",
    "##### (480, 640)は、縦480ピクセル、横640ピクセルの画像という意味です。ピクセルは画素とも言います。"
   ]
  },
  {
   "cell_type": "code",
   "execution_count": 26,
   "metadata": {},
   "outputs": [
    {
     "data": {
      "text/plain": [
       "tuple"
      ]
     },
     "execution_count": 26,
     "metadata": {},
     "output_type": "execute_result"
    }
   ],
   "source": [
    "x = (480, 640)\n",
    "type(x)"
   ]
  },
  {
   "cell_type": "code",
   "execution_count": null,
   "metadata": {},
   "outputs": [],
   "source": []
  },
  {
   "cell_type": "markdown",
   "metadata": {},
   "source": [
    "#### 【17】複合代入演算子\n",
    "##### x = x + 1 と書くと、右辺の x + 1 の計算結果を、左辺の x に代入するという意味になります。\n",
    "##### x += 1 と書いても同じことです。+ と = が複合的に代入しているので、複合代入演算子と呼ばれます。"
   ]
  },
  {
   "cell_type": "code",
   "execution_count": 27,
   "metadata": {},
   "outputs": [
    {
     "name": "stdout",
     "output_type": "stream",
     "text": [
      "21\n"
     ]
    }
   ],
   "source": [
    "x=20\n",
    "x += 1\n",
    "print(x)"
   ]
  },
  {
   "cell_type": "code",
   "execution_count": null,
   "metadata": {},
   "outputs": [],
   "source": []
  },
  {
   "cell_type": "markdown",
   "metadata": {},
   "source": [
    "#### 【18】リストを使ったループ処理"
   ]
  },
  {
   "cell_type": "markdown",
   "metadata": {},
   "source": [
    "##### 画像データ全体から、一部の処理単位の画像データ（ミニバッチという）を抜き出す処理などに使います。\n",
    "##### 変数countには、'a','b','c','d','e'が順番に入り、その都度、print文で下の欄に出力されます。\n"
   ]
  },
  {
   "cell_type": "code",
   "execution_count": 28,
   "metadata": {},
   "outputs": [
    {
     "name": "stdout",
     "output_type": "stream",
     "text": [
      "a\n",
      "b\n",
      "c\n",
      "d\n",
      "e\n"
     ]
    }
   ],
   "source": [
    "for count in ['a','b','c','d','e']:\n",
    "    print(count)"
   ]
  },
  {
   "cell_type": "code",
   "execution_count": null,
   "metadata": {},
   "outputs": [],
   "source": []
  },
  {
   "cell_type": "markdown",
   "metadata": {},
   "source": [
    "#### 【19】range()関数を使ったループ\n",
    "##### 前の問題の ['a','b','c','d','e']を、range(5)に変えみます。\n",
    "##### range(5)は、0番から始まり5番で抜けるので、0,1,2,3,4ということです。\n",
    "##### range(7)なら、0,1,2,3,4,5,6ということです。\n",
    "##### for文で繰り返しprint文を実行します。\n",
    "##### for文では、変数countの値は、print文の処理が繰り返しされるたびに、\n",
    "##### 0 1 2 3 4 のように、何も指定しなくても、自動的に+1増えていきます。"
   ]
  },
  {
   "cell_type": "code",
   "execution_count": 29,
   "metadata": {},
   "outputs": [
    {
     "name": "stdout",
     "output_type": "stream",
     "text": [
      "0\n",
      "1\n",
      "2\n",
      "3\n",
      "4\n"
     ]
    }
   ],
   "source": [
    "for count in range(5):\n",
    "    print(count)"
   ]
  },
  {
   "cell_type": "code",
   "execution_count": null,
   "metadata": {},
   "outputs": [],
   "source": []
  },
  {
   "cell_type": "markdown",
   "metadata": {},
   "source": [
    "#### 【19】関数の定義と呼び出しです。\n",
    "##### この例題の関数は、'hello'という文字列を返す関数です。\n",
    "##### pythonの勉強のためだけに用意したもので、特に意味はありません。\n",
    "##### 関数は、def 関数名():  と書き始めます。def myfunction():\n",
    "##### 実際の処理は、次の行からです。\n",
    "##### この場合は、print('hello')で、関数が呼ばれたら'hello'という文字列を下の欄に書き出します。\n",
    "##### 関数の呼び出しは、その下で、関数名myfunction()を書くことで、関数の処理を呼び出しています。\n",
    "##### 関数の実行順番は\n",
    "##### (1) myfunction\n",
    "##### (2) def myfunction():\n",
    "##### (3) print('hello')\n",
    "##### で、下の欄に、helloが出力されます。\n",
    "##### 関数の定義と関数の呼び出しの間を１行開けているのは、見やすさのためだけなので、１行あけなくてもよいです。"
   ]
  },
  {
   "cell_type": "code",
   "execution_count": 30,
   "metadata": {},
   "outputs": [
    {
     "name": "stdout",
     "output_type": "stream",
     "text": [
      "hello\n"
     ]
    }
   ],
   "source": [
    "def myfunction():      #(2)\n",
    "    print('hello')     #(3)\n",
    "    \n",
    "myfunction()           #(1)"
   ]
  },
  {
   "cell_type": "code",
   "execution_count": null,
   "metadata": {},
   "outputs": [],
   "source": []
  },
  {
   "cell_type": "markdown",
   "metadata": {},
   "source": [
    "#### 【20】自作関数 myBMI を作ってみます。\n",
    "##### 自作関数は、あらかじめシステムに用意されている関数ではなく、自分で作成する関数です。\n",
    "##### BMI＝体重 ÷ (身長 Ｘ 身長) Ｘ 10000  \n",
    "##### defではじまる部分が「関数の定義」です。「関数の定義」とは、関数の計算内容を記述することです。\n",
    "##### def 関数名(引数):　　★★最後にコロン:を付けます。★★\n",
    "##### defの次の行は、インデント(空白4文字)が続きます。\n",
    "##### round(x,1)は、小数点以下1位までに四捨五入します。round=丸める=四捨五入する\n",
    "##### インデント(空白4文字)が続いている間が、関数の計算内容です。return y までが、関数の計算内容です。\n",
    "##### returnは、BMIの値を返しています。(＝return）\n",
    "##### 返されたmyBMIの値を、次の行のprint文で表示しています。\n",
    "##### myBMI(182, 82)は、「関数の呼び出し」です。\n",
    "##### 関数は、「関数の定義 def‥」を先(上の方)に書き、「関数の呼び出し」myBMI(182,82)を後(下の方)に書きます。\n"
   ]
  },
  {
   "cell_type": "code",
   "execution_count": 31,
   "metadata": {},
   "outputs": [
    {
     "name": "stdout",
     "output_type": "stream",
     "text": [
      "24.8\n"
     ]
    }
   ],
   "source": [
    "def myBMI(shincho, taiju):\n",
    "    x = taiju / (shincho*shincho)*10000\n",
    "    y = round(x,1)\n",
    "    return y\n",
    "\n",
    "print(myBMI(182, 82))"
   ]
  },
  {
   "cell_type": "code",
   "execution_count": null,
   "metadata": {},
   "outputs": [],
   "source": []
  },
  {
   "cell_type": "markdown",
   "metadata": {},
   "source": [
    "#### 【21】「ライブラリの関数を使って処理をする」ということをやってみます。\n",
    "##### ライブラリは、よく使う関数などのプログラムを、１か所にまとめたものです。\n",
    "##### timeモジュールは、ライブラリのひとつで、「時間」に関する処理をひとまとめにしたライブラリです。\n",
    "##### timeモジュールというライブラリの中にある.ctimeという関数を使って、時刻を取得します。\n",
    "##### import timeは、timeモジュールを読み込むことです。読み込むことで、timeモジュールは使える状態になります。\n",
    "##### importは、輸入する・持ち込むという意味です。\n",
    "##### timeモジュールの中にある.ctime関数を使って、時刻を取得します。\n",
    "##### ctime()の()は、それが関数やメソッドであることを示しています。"
   ]
  },
  {
   "cell_type": "code",
   "execution_count": 32,
   "metadata": {},
   "outputs": [
    {
     "name": "stdout",
     "output_type": "stream",
     "text": [
      "Wed Feb 17 15:39:08 2021\n"
     ]
    }
   ],
   "source": [
    "import time\n",
    "print(time.ctime())"
   ]
  },
  {
   "cell_type": "code",
   "execution_count": null,
   "metadata": {},
   "outputs": [],
   "source": []
  },
  {
   "cell_type": "markdown",
   "metadata": {},
   "source": [
    "#### 【22】format関数\n",
    "##### format関数は、文字列の中にある {} が複数ある場合には、順番に代入していきます。\n",
    "##### 文字列は 'シングルクォーテーションで囲まれた 'Epoch {}, Loss: {}, Accuracy: {}'のことです。"
   ]
  },
  {
   "cell_type": "code",
   "execution_count": 33,
   "metadata": {},
   "outputs": [
    {
     "data": {
      "text/plain": [
       "'Epoch 12, Loss: 1.04, Accuracy: 0.69'"
      ]
     },
     "execution_count": 33,
     "metadata": {},
     "output_type": "execute_result"
    }
   ],
   "source": [
    "'Epoch {}, Loss: {}, Accuracy: {}'.format(12, 1.04, 0.69)\n"
   ]
  },
  {
   "cell_type": "code",
   "execution_count": null,
   "metadata": {},
   "outputs": [],
   "source": []
  }
 ],
 "metadata": {
  "kernelspec": {
   "display_name": "Python 3",
   "language": "python",
   "name": "python3"
  },
  "language_info": {
   "codemirror_mode": {
    "name": "ipython",
    "version": 3
   },
   "file_extension": ".py",
   "mimetype": "text/x-python",
   "name": "python",
   "nbconvert_exporter": "python",
   "pygments_lexer": "ipython3",
   "version": "3.8.5"
  }
 },
 "nbformat": 4,
 "nbformat_minor": 4
}
